{
 "cells": [
  {
   "cell_type": "markdown",
   "id": "f4f17698",
   "metadata": {
    "id": "f4f17698"
   },
   "source": [
    "In this data analysis project, my focus lies in understanding the pervasive influence of late-capitalism on the multifaceted aspects of contemporary society. Specifically, I aim to explore the 'aesthetic of convergence,' which centers around the idea of cultural homogenization. To this end, I have gathered a comprehensive dataset from Spotify, incorporating various features to facilitate a nuanced examination of the pertinent research questions:\n",
    "\n",
    "\n",
    "\"What will be the formula to create a hit song?\"\n",
    "\"How long should an average track last according to today's standards?\"\n",
    "\"Music listening behaviors pre-COVID vs after-COVID\"\n",
    "\n",
    "\n",
    "Through this exploration, I aim to contribute to a deeper comprehension of the interplay between artistic expression, commercial interests, and societal trends in the context of the modern music industry."
   ]
  },
  {
   "cell_type": "markdown",
   "id": "779cd77e",
   "metadata": {
    "id": "779cd77e"
   },
   "source": [
    "## Prepare Essential Libraries"
   ]
  },
  {
   "cell_type": "code",
   "execution_count": 5,
   "id": "b6d8ee8c",
   "metadata": {
    "id": "b6d8ee8c"
   },
   "outputs": [],
   "source": [
    "import pandas as pd\n",
    "import numpy as np\n",
    "import seaborn as sns\n",
    "import matplotlib.pyplot as plt\n",
    "import spotipy\n",
    "import requests\n",
    "import time\n",
    "\n",
    "from sklearn.preprocessing import StandardScaler\n",
    "from sklearn.cluster import KMeans\n",
    "from sklearn.decomposition import PCA\n",
    "from spotipy.oauth2 import SpotifyClientCredentials\n",
    "from requests.adapters import HTTPAdapter\n",
    "from requests.packages.urllib3.util.retry import Retry"
   ]
  },
  {
   "cell_type": "markdown",
   "id": "fc1c098e",
   "metadata": {
    "id": "fc1c098e"
   },
   "source": [
    "## Prepare The Dataset"
   ]
  },
  {
   "cell_type": "code",
   "execution_count": 6,
   "id": "377c5d6e",
   "metadata": {
    "id": "377c5d6e"
   },
   "outputs": [],
   "source": [
    "cid = \"dac99349fb7a4fab87d1357e361e0012\"\n",
    "secret = \"4a22925e0b2a494d9017d4bc9d98c7f7\"\n",
    "client_credentials_manager = SpotifyClientCredentials(client_id=cid, client_secret=secret)\n",
    "sp = spotipy.Spotify(client_credentials_manager = client_credentials_manager)"
   ]
  },
  {
   "cell_type": "code",
   "execution_count": 7,
   "id": "b88a2fc8",
   "metadata": {
    "id": "b88a2fc8"
   },
   "outputs": [],
   "source": [
    "pre_2020_music_url = \"https://open.spotify.com/playlist/4WrehQQEAcGedInZybGhcL?si=59254a07e05c4d39\"\n",
    "after_2020_music_url= \"https://open.spotify.com/playlist/2HakbK9b5uA1RlwozL3odE?si=de2431be54e44616\""
   ]
  },
  {
   "cell_type": "code",
   "execution_count": 9,
   "id": "1597f8bd",
   "metadata": {
    "id": "1597f8bd"
   },
   "outputs": [],
   "source": [
    "df = pd.read_csv(\"data.csv\")"
   ]
  },
  {
   "cell_type": "markdown",
   "id": "fa669179",
   "metadata": {
    "id": "fa669179"
   },
   "source": [
    "## General Insights About the Data"
   ]
  },
  {
   "cell_type": "code",
   "execution_count": 10,
   "id": "b7971639",
   "metadata": {
    "id": "b7971639",
    "outputId": "751b34ed-5670-404b-f2bd-3a0fdef9728f"
   },
   "outputs": [
    {
     "data": {
      "text/html": [
       "<div>\n",
       "<style scoped>\n",
       "    .dataframe tbody tr th:only-of-type {\n",
       "        vertical-align: middle;\n",
       "    }\n",
       "\n",
       "    .dataframe tbody tr th {\n",
       "        vertical-align: top;\n",
       "    }\n",
       "\n",
       "    .dataframe thead th {\n",
       "        text-align: right;\n",
       "    }\n",
       "</style>\n",
       "<table border=\"1\" class=\"dataframe\">\n",
       "  <thead>\n",
       "    <tr style=\"text-align: right;\">\n",
       "      <th></th>\n",
       "      <th>danceability</th>\n",
       "      <th>energy</th>\n",
       "      <th>key</th>\n",
       "      <th>loudness</th>\n",
       "      <th>mode</th>\n",
       "      <th>speechiness</th>\n",
       "      <th>acousticness</th>\n",
       "      <th>instrumentalness</th>\n",
       "      <th>liveness</th>\n",
       "      <th>valence</th>\n",
       "      <th>tempo</th>\n",
       "      <th>type</th>\n",
       "      <th>id</th>\n",
       "      <th>uri</th>\n",
       "      <th>track_href</th>\n",
       "      <th>analysis_url</th>\n",
       "      <th>duration_ms</th>\n",
       "      <th>time_signature</th>\n",
       "    </tr>\n",
       "  </thead>\n",
       "  <tbody>\n",
       "    <tr>\n",
       "      <th>0</th>\n",
       "      <td>0.609</td>\n",
       "      <td>0.952</td>\n",
       "      <td>8</td>\n",
       "      <td>0.919</td>\n",
       "      <td>1</td>\n",
       "      <td>0.1690</td>\n",
       "      <td>0.03870</td>\n",
       "      <td>0.000000</td>\n",
       "      <td>0.182</td>\n",
       "      <td>0.5560</td>\n",
       "      <td>121.707</td>\n",
       "      <td>audio_features</td>\n",
       "      <td>5dLz8bhINeCWgppiUIcafp</td>\n",
       "      <td>spotify:track:5dLz8bhINeCWgppiUIcafp</td>\n",
       "      <td>https://api.spotify.com/v1/tracks/5dLz8bhINeCW...</td>\n",
       "      <td>https://api.spotify.com/v1/audio-analysis/5dLz...</td>\n",
       "      <td>157169</td>\n",
       "      <td>4</td>\n",
       "    </tr>\n",
       "    <tr>\n",
       "      <th>1</th>\n",
       "      <td>0.659</td>\n",
       "      <td>0.316</td>\n",
       "      <td>7</td>\n",
       "      <td>-13.136</td>\n",
       "      <td>1</td>\n",
       "      <td>0.3590</td>\n",
       "      <td>0.62700</td>\n",
       "      <td>0.000027</td>\n",
       "      <td>0.168</td>\n",
       "      <td>0.3800</td>\n",
       "      <td>96.472</td>\n",
       "      <td>audio_features</td>\n",
       "      <td>11qPxILRaVPoLVgVajD82l</td>\n",
       "      <td>spotify:track:11qPxILRaVPoLVgVajD82l</td>\n",
       "      <td>https://api.spotify.com/v1/tracks/11qPxILRaVPo...</td>\n",
       "      <td>https://api.spotify.com/v1/audio-analysis/11qP...</td>\n",
       "      <td>226933</td>\n",
       "      <td>4</td>\n",
       "    </tr>\n",
       "    <tr>\n",
       "      <th>2</th>\n",
       "      <td>0.689</td>\n",
       "      <td>0.915</td>\n",
       "      <td>0</td>\n",
       "      <td>-4.471</td>\n",
       "      <td>0</td>\n",
       "      <td>0.0511</td>\n",
       "      <td>0.00408</td>\n",
       "      <td>0.000005</td>\n",
       "      <td>0.102</td>\n",
       "      <td>0.7520</td>\n",
       "      <td>119.008</td>\n",
       "      <td>audio_features</td>\n",
       "      <td>7axM6HbfUTu3dXEIWOYcH1</td>\n",
       "      <td>spotify:track:7axM6HbfUTu3dXEIWOYcH1</td>\n",
       "      <td>https://api.spotify.com/v1/tracks/7axM6HbfUTu3...</td>\n",
       "      <td>https://api.spotify.com/v1/audio-analysis/7axM...</td>\n",
       "      <td>234080</td>\n",
       "      <td>4</td>\n",
       "    </tr>\n",
       "    <tr>\n",
       "      <th>3</th>\n",
       "      <td>0.320</td>\n",
       "      <td>0.528</td>\n",
       "      <td>1</td>\n",
       "      <td>-12.612</td>\n",
       "      <td>0</td>\n",
       "      <td>0.0340</td>\n",
       "      <td>0.58500</td>\n",
       "      <td>0.959000</td>\n",
       "      <td>0.118</td>\n",
       "      <td>0.0389</td>\n",
       "      <td>149.948</td>\n",
       "      <td>audio_features</td>\n",
       "      <td>2WQp0WTZFKQCM7Wvy3msGL</td>\n",
       "      <td>spotify:track:2WQp0WTZFKQCM7Wvy3msGL</td>\n",
       "      <td>https://api.spotify.com/v1/tracks/2WQp0WTZFKQC...</td>\n",
       "      <td>https://api.spotify.com/v1/audio-analysis/2WQp...</td>\n",
       "      <td>432000</td>\n",
       "      <td>4</td>\n",
       "    </tr>\n",
       "    <tr>\n",
       "      <th>4</th>\n",
       "      <td>0.596</td>\n",
       "      <td>0.575</td>\n",
       "      <td>11</td>\n",
       "      <td>-8.325</td>\n",
       "      <td>0</td>\n",
       "      <td>0.0514</td>\n",
       "      <td>0.08610</td>\n",
       "      <td>0.000153</td>\n",
       "      <td>0.334</td>\n",
       "      <td>0.3400</td>\n",
       "      <td>98.265</td>\n",
       "      <td>audio_features</td>\n",
       "      <td>3jHdKaLCkuNEkWcLVmQPCX</td>\n",
       "      <td>spotify:track:3jHdKaLCkuNEkWcLVmQPCX</td>\n",
       "      <td>https://api.spotify.com/v1/tracks/3jHdKaLCkuNE...</td>\n",
       "      <td>https://api.spotify.com/v1/audio-analysis/3jHd...</td>\n",
       "      <td>127921</td>\n",
       "      <td>3</td>\n",
       "    </tr>\n",
       "  </tbody>\n",
       "</table>\n",
       "</div>"
      ],
      "text/plain": [
       "   danceability  energy  key  loudness  mode  speechiness  acousticness  \\\n",
       "0         0.609   0.952    8     0.919     1       0.1690       0.03870   \n",
       "1         0.659   0.316    7   -13.136     1       0.3590       0.62700   \n",
       "2         0.689   0.915    0    -4.471     0       0.0511       0.00408   \n",
       "3         0.320   0.528    1   -12.612     0       0.0340       0.58500   \n",
       "4         0.596   0.575   11    -8.325     0       0.0514       0.08610   \n",
       "\n",
       "   instrumentalness  liveness  valence    tempo            type  \\\n",
       "0          0.000000     0.182   0.5560  121.707  audio_features   \n",
       "1          0.000027     0.168   0.3800   96.472  audio_features   \n",
       "2          0.000005     0.102   0.7520  119.008  audio_features   \n",
       "3          0.959000     0.118   0.0389  149.948  audio_features   \n",
       "4          0.000153     0.334   0.3400   98.265  audio_features   \n",
       "\n",
       "                       id                                   uri  \\\n",
       "0  5dLz8bhINeCWgppiUIcafp  spotify:track:5dLz8bhINeCWgppiUIcafp   \n",
       "1  11qPxILRaVPoLVgVajD82l  spotify:track:11qPxILRaVPoLVgVajD82l   \n",
       "2  7axM6HbfUTu3dXEIWOYcH1  spotify:track:7axM6HbfUTu3dXEIWOYcH1   \n",
       "3  2WQp0WTZFKQCM7Wvy3msGL  spotify:track:2WQp0WTZFKQCM7Wvy3msGL   \n",
       "4  3jHdKaLCkuNEkWcLVmQPCX  spotify:track:3jHdKaLCkuNEkWcLVmQPCX   \n",
       "\n",
       "                                          track_href  \\\n",
       "0  https://api.spotify.com/v1/tracks/5dLz8bhINeCW...   \n",
       "1  https://api.spotify.com/v1/tracks/11qPxILRaVPo...   \n",
       "2  https://api.spotify.com/v1/tracks/7axM6HbfUTu3...   \n",
       "3  https://api.spotify.com/v1/tracks/2WQp0WTZFKQC...   \n",
       "4  https://api.spotify.com/v1/tracks/3jHdKaLCkuNE...   \n",
       "\n",
       "                                        analysis_url  duration_ms  \\\n",
       "0  https://api.spotify.com/v1/audio-analysis/5dLz...       157169   \n",
       "1  https://api.spotify.com/v1/audio-analysis/11qP...       226933   \n",
       "2  https://api.spotify.com/v1/audio-analysis/7axM...       234080   \n",
       "3  https://api.spotify.com/v1/audio-analysis/2WQp...       432000   \n",
       "4  https://api.spotify.com/v1/audio-analysis/3jHd...       127921   \n",
       "\n",
       "   time_signature  \n",
       "0               4  \n",
       "1               4  \n",
       "2               4  \n",
       "3               4  \n",
       "4               3  "
      ]
     },
     "execution_count": 10,
     "metadata": {},
     "output_type": "execute_result"
    }
   ],
   "source": [
    "df.head(10)"
   ]
  },
  {
   "cell_type": "code",
   "execution_count": 11,
   "id": "de04b076",
   "metadata": {
    "id": "de04b076",
    "outputId": "29c8b75c-6563-4a70-f13b-c74dac3c3fea"
   },
   "outputs": [
    {
     "data": {
      "text/plain": [
       "danceability        float64\n",
       "energy              float64\n",
       "key                   int64\n",
       "loudness            float64\n",
       "mode                  int64\n",
       "speechiness         float64\n",
       "acousticness        float64\n",
       "instrumentalness    float64\n",
       "liveness            float64\n",
       "valence             float64\n",
       "tempo               float64\n",
       "type                 object\n",
       "id                   object\n",
       "uri                  object\n",
       "track_href           object\n",
       "analysis_url         object\n",
       "duration_ms           int64\n",
       "time_signature        int64\n",
       "dtype: object"
      ]
     },
     "execution_count": 11,
     "metadata": {},
     "output_type": "execute_result"
    }
   ],
   "source": [
    "df.dtypes"
   ]
  },
  {
   "cell_type": "code",
   "execution_count": 12,
   "id": "87b6ae47",
   "metadata": {
    "id": "87b6ae47",
    "outputId": "b8cc8b6f-ea74-45b6-98e5-37da362221f9"
   },
   "outputs": [
    {
     "data": {
      "text/plain": [
       "(5, 18)"
      ]
     },
     "execution_count": 12,
     "metadata": {},
     "output_type": "execute_result"
    }
   ],
   "source": [
    "df.shape"
   ]
  },
  {
   "cell_type": "code",
   "execution_count": 13,
   "id": "17fe7878",
   "metadata": {
    "id": "17fe7878",
    "outputId": "ea57cd49-95fe-4c29-b86c-458e9640d514"
   },
   "outputs": [
    {
     "data": {
      "text/html": [
       "<div>\n",
       "<style scoped>\n",
       "    .dataframe tbody tr th:only-of-type {\n",
       "        vertical-align: middle;\n",
       "    }\n",
       "\n",
       "    .dataframe tbody tr th {\n",
       "        vertical-align: top;\n",
       "    }\n",
       "\n",
       "    .dataframe thead th {\n",
       "        text-align: right;\n",
       "    }\n",
       "</style>\n",
       "<table border=\"1\" class=\"dataframe\">\n",
       "  <thead>\n",
       "    <tr style=\"text-align: right;\">\n",
       "      <th></th>\n",
       "      <th>danceability</th>\n",
       "      <th>energy</th>\n",
       "      <th>key</th>\n",
       "      <th>loudness</th>\n",
       "      <th>mode</th>\n",
       "      <th>speechiness</th>\n",
       "      <th>acousticness</th>\n",
       "      <th>instrumentalness</th>\n",
       "      <th>liveness</th>\n",
       "      <th>valence</th>\n",
       "      <th>tempo</th>\n",
       "      <th>duration_ms</th>\n",
       "      <th>time_signature</th>\n",
       "    </tr>\n",
       "  </thead>\n",
       "  <tbody>\n",
       "    <tr>\n",
       "      <th>count</th>\n",
       "      <td>5.000000</td>\n",
       "      <td>5.000000</td>\n",
       "      <td>5.000000</td>\n",
       "      <td>5.00000</td>\n",
       "      <td>5.000000</td>\n",
       "      <td>5.000000</td>\n",
       "      <td>5.000000</td>\n",
       "      <td>5.000000</td>\n",
       "      <td>5.000000</td>\n",
       "      <td>5.000000</td>\n",
       "      <td>5.000000</td>\n",
       "      <td>5.000000</td>\n",
       "      <td>5.000000</td>\n",
       "    </tr>\n",
       "    <tr>\n",
       "      <th>mean</th>\n",
       "      <td>0.574600</td>\n",
       "      <td>0.657200</td>\n",
       "      <td>5.400000</td>\n",
       "      <td>-7.52500</td>\n",
       "      <td>0.400000</td>\n",
       "      <td>0.132900</td>\n",
       "      <td>0.268176</td>\n",
       "      <td>0.191837</td>\n",
       "      <td>0.180800</td>\n",
       "      <td>0.413380</td>\n",
       "      <td>117.080000</td>\n",
       "      <td>235620.600000</td>\n",
       "      <td>3.800000</td>\n",
       "    </tr>\n",
       "    <tr>\n",
       "      <th>std</th>\n",
       "      <td>0.147202</td>\n",
       "      <td>0.270756</td>\n",
       "      <td>4.722288</td>\n",
       "      <td>5.88704</td>\n",
       "      <td>0.547723</td>\n",
       "      <td>0.137422</td>\n",
       "      <td>0.310117</td>\n",
       "      <td>0.428857</td>\n",
       "      <td>0.091909</td>\n",
       "      <td>0.265395</td>\n",
       "      <td>21.703258</td>\n",
       "      <td>118739.814268</td>\n",
       "      <td>0.447214</td>\n",
       "    </tr>\n",
       "    <tr>\n",
       "      <th>min</th>\n",
       "      <td>0.320000</td>\n",
       "      <td>0.316000</td>\n",
       "      <td>0.000000</td>\n",
       "      <td>-13.13600</td>\n",
       "      <td>0.000000</td>\n",
       "      <td>0.034000</td>\n",
       "      <td>0.004080</td>\n",
       "      <td>0.000000</td>\n",
       "      <td>0.102000</td>\n",
       "      <td>0.038900</td>\n",
       "      <td>96.472000</td>\n",
       "      <td>127921.000000</td>\n",
       "      <td>3.000000</td>\n",
       "    </tr>\n",
       "    <tr>\n",
       "      <th>25%</th>\n",
       "      <td>0.596000</td>\n",
       "      <td>0.528000</td>\n",
       "      <td>1.000000</td>\n",
       "      <td>-12.61200</td>\n",
       "      <td>0.000000</td>\n",
       "      <td>0.051100</td>\n",
       "      <td>0.038700</td>\n",
       "      <td>0.000005</td>\n",
       "      <td>0.118000</td>\n",
       "      <td>0.340000</td>\n",
       "      <td>98.265000</td>\n",
       "      <td>157169.000000</td>\n",
       "      <td>4.000000</td>\n",
       "    </tr>\n",
       "    <tr>\n",
       "      <th>50%</th>\n",
       "      <td>0.609000</td>\n",
       "      <td>0.575000</td>\n",
       "      <td>7.000000</td>\n",
       "      <td>-8.32500</td>\n",
       "      <td>0.000000</td>\n",
       "      <td>0.051400</td>\n",
       "      <td>0.086100</td>\n",
       "      <td>0.000027</td>\n",
       "      <td>0.168000</td>\n",
       "      <td>0.380000</td>\n",
       "      <td>119.008000</td>\n",
       "      <td>226933.000000</td>\n",
       "      <td>4.000000</td>\n",
       "    </tr>\n",
       "    <tr>\n",
       "      <th>75%</th>\n",
       "      <td>0.659000</td>\n",
       "      <td>0.915000</td>\n",
       "      <td>8.000000</td>\n",
       "      <td>-4.47100</td>\n",
       "      <td>1.000000</td>\n",
       "      <td>0.169000</td>\n",
       "      <td>0.585000</td>\n",
       "      <td>0.000153</td>\n",
       "      <td>0.182000</td>\n",
       "      <td>0.556000</td>\n",
       "      <td>121.707000</td>\n",
       "      <td>234080.000000</td>\n",
       "      <td>4.000000</td>\n",
       "    </tr>\n",
       "    <tr>\n",
       "      <th>max</th>\n",
       "      <td>0.689000</td>\n",
       "      <td>0.952000</td>\n",
       "      <td>11.000000</td>\n",
       "      <td>0.91900</td>\n",
       "      <td>1.000000</td>\n",
       "      <td>0.359000</td>\n",
       "      <td>0.627000</td>\n",
       "      <td>0.959000</td>\n",
       "      <td>0.334000</td>\n",
       "      <td>0.752000</td>\n",
       "      <td>149.948000</td>\n",
       "      <td>432000.000000</td>\n",
       "      <td>4.000000</td>\n",
       "    </tr>\n",
       "  </tbody>\n",
       "</table>\n",
       "</div>"
      ],
      "text/plain": [
       "       danceability    energy        key  loudness      mode  speechiness  \\\n",
       "count      5.000000  5.000000   5.000000   5.00000  5.000000     5.000000   \n",
       "mean       0.574600  0.657200   5.400000  -7.52500  0.400000     0.132900   \n",
       "std        0.147202  0.270756   4.722288   5.88704  0.547723     0.137422   \n",
       "min        0.320000  0.316000   0.000000 -13.13600  0.000000     0.034000   \n",
       "25%        0.596000  0.528000   1.000000 -12.61200  0.000000     0.051100   \n",
       "50%        0.609000  0.575000   7.000000  -8.32500  0.000000     0.051400   \n",
       "75%        0.659000  0.915000   8.000000  -4.47100  1.000000     0.169000   \n",
       "max        0.689000  0.952000  11.000000   0.91900  1.000000     0.359000   \n",
       "\n",
       "       acousticness  instrumentalness  liveness   valence       tempo  \\\n",
       "count      5.000000          5.000000  5.000000  5.000000    5.000000   \n",
       "mean       0.268176          0.191837  0.180800  0.413380  117.080000   \n",
       "std        0.310117          0.428857  0.091909  0.265395   21.703258   \n",
       "min        0.004080          0.000000  0.102000  0.038900   96.472000   \n",
       "25%        0.038700          0.000005  0.118000  0.340000   98.265000   \n",
       "50%        0.086100          0.000027  0.168000  0.380000  119.008000   \n",
       "75%        0.585000          0.000153  0.182000  0.556000  121.707000   \n",
       "max        0.627000          0.959000  0.334000  0.752000  149.948000   \n",
       "\n",
       "         duration_ms  time_signature  \n",
       "count       5.000000        5.000000  \n",
       "mean   235620.600000        3.800000  \n",
       "std    118739.814268        0.447214  \n",
       "min    127921.000000        3.000000  \n",
       "25%    157169.000000        4.000000  \n",
       "50%    226933.000000        4.000000  \n",
       "75%    234080.000000        4.000000  \n",
       "max    432000.000000        4.000000  "
      ]
     },
     "execution_count": 13,
     "metadata": {},
     "output_type": "execute_result"
    }
   ],
   "source": [
    "df.describe()"
   ]
  },
  {
   "cell_type": "code",
   "execution_count": 14,
   "id": "6b998340",
   "metadata": {
    "id": "6b998340",
    "outputId": "19056177-a40d-4f90-cd64-90555921d0d2"
   },
   "outputs": [
    {
     "name": "stdout",
     "output_type": "stream",
     "text": [
      "There are in total 0 null values in danceability\n",
      "There are in total 0 null values in energy\n",
      "There are in total 0 null values in key\n",
      "There are in total 0 null values in loudness\n",
      "There are in total 0 null values in mode\n",
      "There are in total 0 null values in speechiness\n",
      "There are in total 0 null values in acousticness\n",
      "There are in total 0 null values in instrumentalness\n",
      "There are in total 0 null values in liveness\n",
      "There are in total 0 null values in valence\n",
      "There are in total 0 null values in tempo\n",
      "There are in total 0 null values in type\n",
      "There are in total 0 null values in id\n",
      "There are in total 0 null values in uri\n",
      "There are in total 0 null values in track_href\n",
      "There are in total 0 null values in analysis_url\n",
      "There are in total 0 null values in duration_ms\n",
      "There are in total 0 null values in time_signature\n"
     ]
    }
   ],
   "source": [
    "for c in df.columns:\n",
    "    totalNulls = df[c].isnull().sum()\n",
    "    print(f'There are in total {totalNulls} null values in {c}')"
   ]
  },
  {
   "cell_type": "code",
   "execution_count": 15,
   "id": "2ccf656c",
   "metadata": {
    "id": "2ccf656c",
    "outputId": "8b2443c0-e84e-4137-915c-f97c5466beac"
   },
   "outputs": [
    {
     "name": "stdout",
     "output_type": "stream",
     "text": [
      "There are in total 5 unique values in danceability\n",
      "There are in total 5 unique values in energy\n",
      "There are in total 5 unique values in key\n",
      "There are in total 5 unique values in loudness\n",
      "There are in total 2 unique values in mode\n",
      "There are in total 5 unique values in speechiness\n",
      "There are in total 5 unique values in acousticness\n",
      "There are in total 5 unique values in instrumentalness\n",
      "There are in total 5 unique values in liveness\n",
      "There are in total 5 unique values in valence\n",
      "There are in total 5 unique values in tempo\n",
      "There are in total 1 unique values in type\n",
      "There are in total 5 unique values in id\n",
      "There are in total 5 unique values in uri\n",
      "There are in total 5 unique values in track_href\n",
      "There are in total 5 unique values in analysis_url\n",
      "There are in total 5 unique values in duration_ms\n",
      "There are in total 2 unique values in time_signature\n"
     ]
    }
   ],
   "source": [
    "for c in df.columns:\n",
    "    totalUniques = df[c].nunique()\n",
    "    print(f'There are in total {totalUniques} unique values in {c}')"
   ]
  },
  {
   "cell_type": "markdown",
   "id": "cbf49abc",
   "metadata": {
    "id": "cbf49abc"
   },
   "source": [
    "## Data Pre-Processing"
   ]
  },
  {
   "cell_type": "code",
   "execution_count": 16,
   "id": "27c386f5",
   "metadata": {
    "id": "27c386f5"
   },
   "outputs": [],
   "source": [
    "# Drop all rows containing null values\n",
    "df.dropna(inplace = True)"
   ]
  },
  {
   "cell_type": "code",
   "execution_count": 17,
   "id": "0eb18178",
   "metadata": {
    "id": "0eb18178"
   },
   "outputs": [
    {
     "ename": "KeyError",
     "evalue": "\"['Unnamed: 0', 'track_id', 'artists', 'album_name', 'track_name'] not found in axis\"",
     "output_type": "error",
     "traceback": [
      "\u001b[1;31m---------------------------------------------------------------------------\u001b[0m",
      "\u001b[1;31mKeyError\u001b[0m                                  Traceback (most recent call last)",
      "Cell \u001b[1;32mIn[17], line 2\u001b[0m\n\u001b[0;32m      1\u001b[0m \u001b[38;5;66;03m# Drop the column unnamed:0 since it offers no values in the dataset\u001b[39;00m\n\u001b[1;32m----> 2\u001b[0m \u001b[43mdf\u001b[49m\u001b[38;5;241;43m.\u001b[39;49m\u001b[43mdrop\u001b[49m\u001b[43m(\u001b[49m\u001b[43mcolumns\u001b[49m\u001b[43m \u001b[49m\u001b[38;5;241;43m=\u001b[39;49m\u001b[43m \u001b[49m\u001b[43m[\u001b[49m\u001b[38;5;124;43m'\u001b[39;49m\u001b[38;5;124;43mUnnamed: 0\u001b[39;49m\u001b[38;5;124;43m'\u001b[39;49m\u001b[43m,\u001b[49m\u001b[43m \u001b[49m\u001b[38;5;124;43m'\u001b[39;49m\u001b[38;5;124;43mtrack_id\u001b[39;49m\u001b[38;5;124;43m'\u001b[39;49m\u001b[43m,\u001b[49m\u001b[43m \u001b[49m\u001b[38;5;124;43m'\u001b[39;49m\u001b[38;5;124;43martists\u001b[39;49m\u001b[38;5;124;43m'\u001b[39;49m\u001b[43m,\u001b[49m\u001b[43m \u001b[49m\u001b[38;5;124;43m'\u001b[39;49m\u001b[38;5;124;43malbum_name\u001b[39;49m\u001b[38;5;124;43m'\u001b[39;49m\u001b[43m,\u001b[49m\u001b[43m \u001b[49m\u001b[38;5;124;43m'\u001b[39;49m\u001b[38;5;124;43mtrack_name\u001b[39;49m\u001b[38;5;124;43m'\u001b[39;49m\u001b[43m]\u001b[49m\u001b[43m,\u001b[49m\u001b[43m \u001b[49m\u001b[43minplace\u001b[49m\u001b[43m \u001b[49m\u001b[38;5;241;43m=\u001b[39;49m\u001b[43m \u001b[49m\u001b[38;5;28;43;01mTrue\u001b[39;49;00m\u001b[43m)\u001b[49m\n",
      "File \u001b[1;32m~\\AppData\\Local\\Programs\\Python\\Python311\\Lib\\site-packages\\pandas\\core\\frame.py:5258\u001b[0m, in \u001b[0;36mDataFrame.drop\u001b[1;34m(self, labels, axis, index, columns, level, inplace, errors)\u001b[0m\n\u001b[0;32m   5110\u001b[0m \u001b[38;5;28;01mdef\u001b[39;00m \u001b[38;5;21mdrop\u001b[39m(\n\u001b[0;32m   5111\u001b[0m     \u001b[38;5;28mself\u001b[39m,\n\u001b[0;32m   5112\u001b[0m     labels: IndexLabel \u001b[38;5;241m=\u001b[39m \u001b[38;5;28;01mNone\u001b[39;00m,\n\u001b[1;32m   (...)\u001b[0m\n\u001b[0;32m   5119\u001b[0m     errors: IgnoreRaise \u001b[38;5;241m=\u001b[39m \u001b[38;5;124m\"\u001b[39m\u001b[38;5;124mraise\u001b[39m\u001b[38;5;124m\"\u001b[39m,\n\u001b[0;32m   5120\u001b[0m ) \u001b[38;5;241m-\u001b[39m\u001b[38;5;241m>\u001b[39m DataFrame \u001b[38;5;241m|\u001b[39m \u001b[38;5;28;01mNone\u001b[39;00m:\n\u001b[0;32m   5121\u001b[0m \u001b[38;5;250m    \u001b[39m\u001b[38;5;124;03m\"\"\"\u001b[39;00m\n\u001b[0;32m   5122\u001b[0m \u001b[38;5;124;03m    Drop specified labels from rows or columns.\u001b[39;00m\n\u001b[0;32m   5123\u001b[0m \n\u001b[1;32m   (...)\u001b[0m\n\u001b[0;32m   5256\u001b[0m \u001b[38;5;124;03m            weight  1.0     0.8\u001b[39;00m\n\u001b[0;32m   5257\u001b[0m \u001b[38;5;124;03m    \"\"\"\u001b[39;00m\n\u001b[1;32m-> 5258\u001b[0m     \u001b[38;5;28;01mreturn\u001b[39;00m \u001b[38;5;28;43msuper\u001b[39;49m\u001b[43m(\u001b[49m\u001b[43m)\u001b[49m\u001b[38;5;241;43m.\u001b[39;49m\u001b[43mdrop\u001b[49m\u001b[43m(\u001b[49m\n\u001b[0;32m   5259\u001b[0m \u001b[43m        \u001b[49m\u001b[43mlabels\u001b[49m\u001b[38;5;241;43m=\u001b[39;49m\u001b[43mlabels\u001b[49m\u001b[43m,\u001b[49m\n\u001b[0;32m   5260\u001b[0m \u001b[43m        \u001b[49m\u001b[43maxis\u001b[49m\u001b[38;5;241;43m=\u001b[39;49m\u001b[43maxis\u001b[49m\u001b[43m,\u001b[49m\n\u001b[0;32m   5261\u001b[0m \u001b[43m        \u001b[49m\u001b[43mindex\u001b[49m\u001b[38;5;241;43m=\u001b[39;49m\u001b[43mindex\u001b[49m\u001b[43m,\u001b[49m\n\u001b[0;32m   5262\u001b[0m \u001b[43m        \u001b[49m\u001b[43mcolumns\u001b[49m\u001b[38;5;241;43m=\u001b[39;49m\u001b[43mcolumns\u001b[49m\u001b[43m,\u001b[49m\n\u001b[0;32m   5263\u001b[0m \u001b[43m        \u001b[49m\u001b[43mlevel\u001b[49m\u001b[38;5;241;43m=\u001b[39;49m\u001b[43mlevel\u001b[49m\u001b[43m,\u001b[49m\n\u001b[0;32m   5264\u001b[0m \u001b[43m        \u001b[49m\u001b[43minplace\u001b[49m\u001b[38;5;241;43m=\u001b[39;49m\u001b[43minplace\u001b[49m\u001b[43m,\u001b[49m\n\u001b[0;32m   5265\u001b[0m \u001b[43m        \u001b[49m\u001b[43merrors\u001b[49m\u001b[38;5;241;43m=\u001b[39;49m\u001b[43merrors\u001b[49m\u001b[43m,\u001b[49m\n\u001b[0;32m   5266\u001b[0m \u001b[43m    \u001b[49m\u001b[43m)\u001b[49m\n",
      "File \u001b[1;32m~\\AppData\\Local\\Programs\\Python\\Python311\\Lib\\site-packages\\pandas\\core\\generic.py:4549\u001b[0m, in \u001b[0;36mNDFrame.drop\u001b[1;34m(self, labels, axis, index, columns, level, inplace, errors)\u001b[0m\n\u001b[0;32m   4547\u001b[0m \u001b[38;5;28;01mfor\u001b[39;00m axis, labels \u001b[38;5;129;01min\u001b[39;00m axes\u001b[38;5;241m.\u001b[39mitems():\n\u001b[0;32m   4548\u001b[0m     \u001b[38;5;28;01mif\u001b[39;00m labels \u001b[38;5;129;01mis\u001b[39;00m \u001b[38;5;129;01mnot\u001b[39;00m \u001b[38;5;28;01mNone\u001b[39;00m:\n\u001b[1;32m-> 4549\u001b[0m         obj \u001b[38;5;241m=\u001b[39m \u001b[43mobj\u001b[49m\u001b[38;5;241;43m.\u001b[39;49m\u001b[43m_drop_axis\u001b[49m\u001b[43m(\u001b[49m\u001b[43mlabels\u001b[49m\u001b[43m,\u001b[49m\u001b[43m \u001b[49m\u001b[43maxis\u001b[49m\u001b[43m,\u001b[49m\u001b[43m \u001b[49m\u001b[43mlevel\u001b[49m\u001b[38;5;241;43m=\u001b[39;49m\u001b[43mlevel\u001b[49m\u001b[43m,\u001b[49m\u001b[43m \u001b[49m\u001b[43merrors\u001b[49m\u001b[38;5;241;43m=\u001b[39;49m\u001b[43merrors\u001b[49m\u001b[43m)\u001b[49m\n\u001b[0;32m   4551\u001b[0m \u001b[38;5;28;01mif\u001b[39;00m inplace:\n\u001b[0;32m   4552\u001b[0m     \u001b[38;5;28mself\u001b[39m\u001b[38;5;241m.\u001b[39m_update_inplace(obj)\n",
      "File \u001b[1;32m~\\AppData\\Local\\Programs\\Python\\Python311\\Lib\\site-packages\\pandas\\core\\generic.py:4591\u001b[0m, in \u001b[0;36mNDFrame._drop_axis\u001b[1;34m(self, labels, axis, level, errors, only_slice)\u001b[0m\n\u001b[0;32m   4589\u001b[0m         new_axis \u001b[38;5;241m=\u001b[39m axis\u001b[38;5;241m.\u001b[39mdrop(labels, level\u001b[38;5;241m=\u001b[39mlevel, errors\u001b[38;5;241m=\u001b[39merrors)\n\u001b[0;32m   4590\u001b[0m     \u001b[38;5;28;01melse\u001b[39;00m:\n\u001b[1;32m-> 4591\u001b[0m         new_axis \u001b[38;5;241m=\u001b[39m \u001b[43maxis\u001b[49m\u001b[38;5;241;43m.\u001b[39;49m\u001b[43mdrop\u001b[49m\u001b[43m(\u001b[49m\u001b[43mlabels\u001b[49m\u001b[43m,\u001b[49m\u001b[43m \u001b[49m\u001b[43merrors\u001b[49m\u001b[38;5;241;43m=\u001b[39;49m\u001b[43merrors\u001b[49m\u001b[43m)\u001b[49m\n\u001b[0;32m   4592\u001b[0m     indexer \u001b[38;5;241m=\u001b[39m axis\u001b[38;5;241m.\u001b[39mget_indexer(new_axis)\n\u001b[0;32m   4594\u001b[0m \u001b[38;5;66;03m# Case for non-unique axis\u001b[39;00m\n\u001b[0;32m   4595\u001b[0m \u001b[38;5;28;01melse\u001b[39;00m:\n",
      "File \u001b[1;32m~\\AppData\\Local\\Programs\\Python\\Python311\\Lib\\site-packages\\pandas\\core\\indexes\\base.py:6699\u001b[0m, in \u001b[0;36mIndex.drop\u001b[1;34m(self, labels, errors)\u001b[0m\n\u001b[0;32m   6697\u001b[0m \u001b[38;5;28;01mif\u001b[39;00m mask\u001b[38;5;241m.\u001b[39many():\n\u001b[0;32m   6698\u001b[0m     \u001b[38;5;28;01mif\u001b[39;00m errors \u001b[38;5;241m!=\u001b[39m \u001b[38;5;124m\"\u001b[39m\u001b[38;5;124mignore\u001b[39m\u001b[38;5;124m\"\u001b[39m:\n\u001b[1;32m-> 6699\u001b[0m         \u001b[38;5;28;01mraise\u001b[39;00m \u001b[38;5;167;01mKeyError\u001b[39;00m(\u001b[38;5;124mf\u001b[39m\u001b[38;5;124m\"\u001b[39m\u001b[38;5;132;01m{\u001b[39;00m\u001b[38;5;28mlist\u001b[39m(labels[mask])\u001b[38;5;132;01m}\u001b[39;00m\u001b[38;5;124m not found in axis\u001b[39m\u001b[38;5;124m\"\u001b[39m)\n\u001b[0;32m   6700\u001b[0m     indexer \u001b[38;5;241m=\u001b[39m indexer[\u001b[38;5;241m~\u001b[39mmask]\n\u001b[0;32m   6701\u001b[0m \u001b[38;5;28;01mreturn\u001b[39;00m \u001b[38;5;28mself\u001b[39m\u001b[38;5;241m.\u001b[39mdelete(indexer)\n",
      "\u001b[1;31mKeyError\u001b[0m: \"['Unnamed: 0', 'track_id', 'artists', 'album_name', 'track_name'] not found in axis\""
     ]
    }
   ],
   "source": [
    "# Drop the column unnamed:0 since it offers no values in the dataset\n",
    "df.drop(columns = ['Unnamed: 0', 'track_id', 'artists', 'album_name', 'track_name'], inplace = True)"
   ]
  },
  {
   "cell_type": "code",
   "execution_count": 25,
   "id": "6dd9d1f7-5212-419c-9b76-8aa67607172c",
   "metadata": {},
   "outputs": [
    {
     "data": {
      "text/html": [
       "<div>\n",
       "<style scoped>\n",
       "    .dataframe tbody tr th:only-of-type {\n",
       "        vertical-align: middle;\n",
       "    }\n",
       "\n",
       "    .dataframe tbody tr th {\n",
       "        vertical-align: top;\n",
       "    }\n",
       "\n",
       "    .dataframe thead th {\n",
       "        text-align: right;\n",
       "    }\n",
       "</style>\n",
       "<table border=\"1\" class=\"dataframe\">\n",
       "  <thead>\n",
       "    <tr style=\"text-align: right;\">\n",
       "      <th></th>\n",
       "      <th>danceability</th>\n",
       "      <th>energy</th>\n",
       "      <th>key</th>\n",
       "      <th>loudness</th>\n",
       "      <th>mode</th>\n",
       "      <th>speechiness</th>\n",
       "      <th>acousticness</th>\n",
       "      <th>instrumentalness</th>\n",
       "      <th>liveness</th>\n",
       "      <th>valence</th>\n",
       "      <th>tempo</th>\n",
       "      <th>type</th>\n",
       "      <th>id</th>\n",
       "      <th>uri</th>\n",
       "      <th>track_href</th>\n",
       "      <th>analysis_url</th>\n",
       "      <th>duration_ms</th>\n",
       "      <th>time_signature</th>\n",
       "    </tr>\n",
       "  </thead>\n",
       "  <tbody>\n",
       "    <tr>\n",
       "      <th>0</th>\n",
       "      <td>0.609</td>\n",
       "      <td>0.952</td>\n",
       "      <td>8</td>\n",
       "      <td>0.919</td>\n",
       "      <td>1</td>\n",
       "      <td>0.1690</td>\n",
       "      <td>0.03870</td>\n",
       "      <td>0.000000</td>\n",
       "      <td>0.182</td>\n",
       "      <td>0.5560</td>\n",
       "      <td>121.707</td>\n",
       "      <td>audio_features</td>\n",
       "      <td>5dLz8bhINeCWgppiUIcafp</td>\n",
       "      <td>spotify:track:5dLz8bhINeCWgppiUIcafp</td>\n",
       "      <td>https://api.spotify.com/v1/tracks/5dLz8bhINeCW...</td>\n",
       "      <td>https://api.spotify.com/v1/audio-analysis/5dLz...</td>\n",
       "      <td>157169</td>\n",
       "      <td>4</td>\n",
       "    </tr>\n",
       "    <tr>\n",
       "      <th>1</th>\n",
       "      <td>0.659</td>\n",
       "      <td>0.316</td>\n",
       "      <td>7</td>\n",
       "      <td>-13.136</td>\n",
       "      <td>1</td>\n",
       "      <td>0.3590</td>\n",
       "      <td>0.62700</td>\n",
       "      <td>0.000027</td>\n",
       "      <td>0.168</td>\n",
       "      <td>0.3800</td>\n",
       "      <td>96.472</td>\n",
       "      <td>audio_features</td>\n",
       "      <td>11qPxILRaVPoLVgVajD82l</td>\n",
       "      <td>spotify:track:11qPxILRaVPoLVgVajD82l</td>\n",
       "      <td>https://api.spotify.com/v1/tracks/11qPxILRaVPo...</td>\n",
       "      <td>https://api.spotify.com/v1/audio-analysis/11qP...</td>\n",
       "      <td>226933</td>\n",
       "      <td>4</td>\n",
       "    </tr>\n",
       "    <tr>\n",
       "      <th>2</th>\n",
       "      <td>0.689</td>\n",
       "      <td>0.915</td>\n",
       "      <td>0</td>\n",
       "      <td>-4.471</td>\n",
       "      <td>0</td>\n",
       "      <td>0.0511</td>\n",
       "      <td>0.00408</td>\n",
       "      <td>0.000005</td>\n",
       "      <td>0.102</td>\n",
       "      <td>0.7520</td>\n",
       "      <td>119.008</td>\n",
       "      <td>audio_features</td>\n",
       "      <td>7axM6HbfUTu3dXEIWOYcH1</td>\n",
       "      <td>spotify:track:7axM6HbfUTu3dXEIWOYcH1</td>\n",
       "      <td>https://api.spotify.com/v1/tracks/7axM6HbfUTu3...</td>\n",
       "      <td>https://api.spotify.com/v1/audio-analysis/7axM...</td>\n",
       "      <td>234080</td>\n",
       "      <td>4</td>\n",
       "    </tr>\n",
       "    <tr>\n",
       "      <th>3</th>\n",
       "      <td>0.320</td>\n",
       "      <td>0.528</td>\n",
       "      <td>1</td>\n",
       "      <td>-12.612</td>\n",
       "      <td>0</td>\n",
       "      <td>0.0340</td>\n",
       "      <td>0.58500</td>\n",
       "      <td>0.959000</td>\n",
       "      <td>0.118</td>\n",
       "      <td>0.0389</td>\n",
       "      <td>149.948</td>\n",
       "      <td>audio_features</td>\n",
       "      <td>2WQp0WTZFKQCM7Wvy3msGL</td>\n",
       "      <td>spotify:track:2WQp0WTZFKQCM7Wvy3msGL</td>\n",
       "      <td>https://api.spotify.com/v1/tracks/2WQp0WTZFKQC...</td>\n",
       "      <td>https://api.spotify.com/v1/audio-analysis/2WQp...</td>\n",
       "      <td>432000</td>\n",
       "      <td>4</td>\n",
       "    </tr>\n",
       "    <tr>\n",
       "      <th>4</th>\n",
       "      <td>0.596</td>\n",
       "      <td>0.575</td>\n",
       "      <td>11</td>\n",
       "      <td>-8.325</td>\n",
       "      <td>0</td>\n",
       "      <td>0.0514</td>\n",
       "      <td>0.08610</td>\n",
       "      <td>0.000153</td>\n",
       "      <td>0.334</td>\n",
       "      <td>0.3400</td>\n",
       "      <td>98.265</td>\n",
       "      <td>audio_features</td>\n",
       "      <td>3jHdKaLCkuNEkWcLVmQPCX</td>\n",
       "      <td>spotify:track:3jHdKaLCkuNEkWcLVmQPCX</td>\n",
       "      <td>https://api.spotify.com/v1/tracks/3jHdKaLCkuNE...</td>\n",
       "      <td>https://api.spotify.com/v1/audio-analysis/3jHd...</td>\n",
       "      <td>127921</td>\n",
       "      <td>3</td>\n",
       "    </tr>\n",
       "  </tbody>\n",
       "</table>\n",
       "</div>"
      ],
      "text/plain": [
       "   danceability  energy  key  loudness  mode  speechiness  acousticness  \\\n",
       "0         0.609   0.952    8     0.919     1       0.1690       0.03870   \n",
       "1         0.659   0.316    7   -13.136     1       0.3590       0.62700   \n",
       "2         0.689   0.915    0    -4.471     0       0.0511       0.00408   \n",
       "3         0.320   0.528    1   -12.612     0       0.0340       0.58500   \n",
       "4         0.596   0.575   11    -8.325     0       0.0514       0.08610   \n",
       "\n",
       "   instrumentalness  liveness  valence    tempo            type  \\\n",
       "0          0.000000     0.182   0.5560  121.707  audio_features   \n",
       "1          0.000027     0.168   0.3800   96.472  audio_features   \n",
       "2          0.000005     0.102   0.7520  119.008  audio_features   \n",
       "3          0.959000     0.118   0.0389  149.948  audio_features   \n",
       "4          0.000153     0.334   0.3400   98.265  audio_features   \n",
       "\n",
       "                       id                                   uri  \\\n",
       "0  5dLz8bhINeCWgppiUIcafp  spotify:track:5dLz8bhINeCWgppiUIcafp   \n",
       "1  11qPxILRaVPoLVgVajD82l  spotify:track:11qPxILRaVPoLVgVajD82l   \n",
       "2  7axM6HbfUTu3dXEIWOYcH1  spotify:track:7axM6HbfUTu3dXEIWOYcH1   \n",
       "3  2WQp0WTZFKQCM7Wvy3msGL  spotify:track:2WQp0WTZFKQCM7Wvy3msGL   \n",
       "4  3jHdKaLCkuNEkWcLVmQPCX  spotify:track:3jHdKaLCkuNEkWcLVmQPCX   \n",
       "\n",
       "                                          track_href  \\\n",
       "0  https://api.spotify.com/v1/tracks/5dLz8bhINeCW...   \n",
       "1  https://api.spotify.com/v1/tracks/11qPxILRaVPo...   \n",
       "2  https://api.spotify.com/v1/tracks/7axM6HbfUTu3...   \n",
       "3  https://api.spotify.com/v1/tracks/2WQp0WTZFKQC...   \n",
       "4  https://api.spotify.com/v1/tracks/3jHdKaLCkuNE...   \n",
       "\n",
       "                                        analysis_url  duration_ms  \\\n",
       "0  https://api.spotify.com/v1/audio-analysis/5dLz...       157169   \n",
       "1  https://api.spotify.com/v1/audio-analysis/11qP...       226933   \n",
       "2  https://api.spotify.com/v1/audio-analysis/7axM...       234080   \n",
       "3  https://api.spotify.com/v1/audio-analysis/2WQp...       432000   \n",
       "4  https://api.spotify.com/v1/audio-analysis/3jHd...       127921   \n",
       "\n",
       "   time_signature  \n",
       "0               4  \n",
       "1               4  \n",
       "2               4  \n",
       "3               4  \n",
       "4               3  "
      ]
     },
     "execution_count": 25,
     "metadata": {},
     "output_type": "execute_result"
    }
   ],
   "source": [
    "df"
   ]
  },
  {
   "cell_type": "code",
   "execution_count": 20,
   "id": "ca647e5a",
   "metadata": {
    "id": "ca647e5a"
   },
   "outputs": [],
   "source": [
    "# Drop all the duplicate rows in the dataset\n",
    "df.drop_duplicates(inplace = True)"
   ]
  },
  {
   "cell_type": "markdown",
   "id": "4e6fd3d5",
   "metadata": {
    "id": "4e6fd3d5"
   },
   "source": [
    "## Data Analysis"
   ]
  },
  {
   "cell_type": "code",
   "execution_count": 21,
   "id": "4f68087d",
   "metadata": {
    "id": "4f68087d"
   },
   "outputs": [],
   "source": [
    "# Setting up the functions for visualizations\n",
    "\n",
    "class DataSplit():\n",
    "\n",
    "    def __init__(self, df):\n",
    "        self.df = df\n",
    "    def numericalSplit(self):\n",
    "        num = self.df.select_dtypes(include = ['int64'])\n",
    "        countable = []\n",
    "        uncountable = []\n",
    "        for c in num.columns:\n",
    "            if num[c].nunique() < 100:\n",
    "                countable.append(c)\n",
    "            else:\n",
    "                uncountable.append(c)\n",
    "        return countable, uncountable\n",
    "    def continousSplit(self):\n",
    "        flt = self.df.select_dtypes(include = ['float64'])\n",
    "        return list(flt.columns)\n",
    "    def categoricalSplit(self):\n",
    "        category = self.df.select_dtypes(include = ['bool', 'object'])\n",
    "        return list(category.columns)"
   ]
  },
  {
   "cell_type": "code",
   "execution_count": 22,
   "id": "19ac8e14",
   "metadata": {
    "id": "19ac8e14"
   },
   "outputs": [],
   "source": [
    "# Splitting the dataset into different types:\n",
    "ds = DataSplit(df)\n",
    "continous = ds.continousSplit()\n",
    "category = ds.categoricalSplit()\n",
    "countable, uncountable = ds.numericalSplit()"
   ]
  },
  {
   "cell_type": "markdown",
   "id": "5681e68e",
   "metadata": {
    "id": "5681e68e"
   },
   "source": [
    "## Categorical Distribution"
   ]
  },
  {
   "cell_type": "markdown",
   "id": "d5c5ff94",
   "metadata": {
    "id": "d5c5ff94"
   },
   "source": [
    "### Univariate Analysis of categorical attributes"
   ]
  },
  {
   "cell_type": "code",
   "execution_count": 23,
   "id": "44d50bc9",
   "metadata": {
    "id": "44d50bc9",
    "outputId": "a4efba7c-3028-47d2-95ed-80afd92dbade"
   },
   "outputs": [
    {
     "data": {
      "text/plain": [
       "['type', 'id', 'uri', 'track_href', 'analysis_url']"
      ]
     },
     "execution_count": 23,
     "metadata": {},
     "output_type": "execute_result"
    }
   ],
   "source": [
    "category"
   ]
  },
  {
   "cell_type": "code",
   "execution_count": 24,
   "id": "e5d4388d",
   "metadata": {
    "id": "e5d4388d",
    "outputId": "2a89d6ff-4cc2-4f29-ded6-09c880b1ec58"
   },
   "outputs": [
    {
     "data": {
      "image/png": "[encoded data removed]",
      "text/plain": [
       "<Figure size 1200x1000 with 1 Axes>"
      ]
     },
     "metadata": {},
     "output_type": "display_data"
    }
   ],
   "source": [
    "plt.figure(figsize = (12, 10))\n",
    "fontdict = {'fontsize': 18, 'fontweight': 'bold'}\n",
    "plt.title('How Many Songs Are Explicit in The Dataset?', fontdict = fontdict)\n",
    "sns.countplot(data = df, x = category[0])\n",
    "plt.xlabel('Values')\n",
    "plt.ylabel('Counts')\n",
    "plt.show()"
   ]
  },
  {
   "cell_type": "code",
   "execution_count": null,
   "id": "69b005ab",
   "metadata": {
    "id": "69b005ab",
    "outputId": "b13a7f19-8e3b-4133-c608-cb7095c39e4d"
   },
   "outputs": [],
   "source": [
    "df['track_genre'].value_counts().sort_values(ascending = False)"
   ]
  },
  {
   "cell_type": "code",
   "execution_count": null,
   "id": "54c36c65",
   "metadata": {
    "id": "54c36c65",
    "outputId": "3a22d8fa-6411-4f1f-99f7-86a12567d1ca"
   },
   "outputs": [],
   "source": [
    "#Too many genres so we need a cluster of genres to display it properly:\n",
    "\n",
    "df_genres = df[['danceability', 'energy',\n",
    "       'key', 'loudness', 'mode', 'speechiness', 'acousticness',\n",
    "       'instrumentalness', 'liveness', 'valence', 'tempo']]\n",
    "\n",
    "scaler = StandardScaler()\n",
    "scaled_features  = scaler.fit_transform(df_genres)\n",
    "wcss = []\n",
    "\n",
    "for k in range(1, 9):\n",
    "    kmeans = KMeans(n_clusters=k, random_state=0)\n",
    "    kmeans.fit(scaled_features)\n",
    "    wcss.append(kmeans.inertia_)\n",
    "\n",
    "plt.plot(range(1, 9), wcss)\n",
    "plt.title('Elbow Method for Optimal k')\n",
    "plt.xlabel('Number of Clusters (k)')\n",
    "plt.ylabel('WCSS')\n",
    "plt.show()\n",
    "\n",
    "#We can see that k=3 shows the optimal result"
   ]
  },
  {
   "cell_type": "code",
   "execution_count": null,
   "id": "b29aab00",
   "metadata": {
    "id": "b29aab00"
   },
   "outputs": [],
   "source": [
    "kmeans = KMeans(n_clusters = 3, random_state = 0)\n",
    "kmeans.fit(df_genres)\n",
    "df['Clusters'] = kmeans.labels_"
   ]
  },
  {
   "cell_type": "code",
   "execution_count": null,
   "id": "64e4c8e8",
   "metadata": {
    "id": "64e4c8e8"
   },
   "outputs": [],
   "source": [
    "pca = PCA(n_components=2)\n",
    "pca_features = pca.fit_transform(scaled_features)"
   ]
  },
  {
   "cell_type": "code",
   "execution_count": null,
   "id": "ffca2200",
   "metadata": {
    "id": "ffca2200",
    "outputId": "2d31d939-a143-4241-afea-267def2d72da"
   },
   "outputs": [],
   "source": [
    "for i in range(3):\n",
    "    plt.scatter(pca_features[kmeans.labels_ == i, 0], pca_features[kmeans.labels_ == i, 1], label=f'Cluster {i+1}')\n",
    "\n",
    "plt.xlabel('Principal Component 1')\n",
    "plt.ylabel('Principal Component 2')\n",
    "plt.title('K-means Clustering Visualization using PCA')\n",
    "plt.legend()\n",
    "plt.show()"
   ]
  },
  {
   "cell_type": "code",
   "execution_count": null,
   "id": "96f64cb9",
   "metadata": {
    "id": "96f64cb9",
    "outputId": "e3c6e7ac-d718-4b11-da41-ab76eb1c2183"
   },
   "outputs": [],
   "source": [
    "df.groupby('Clusters').mean()\n",
    "\n",
    "# We can distinguish these track genres into three distinct clusters based on their discernible features:\n",
    "# The first cluster (Cluster 0) comprises music characterized by relatively lower levels of energy, loudness, and tempo.\n",
    "# In contrast, the second cluster (Cluster 1) is constituted by genres demonstrating high tempo, liveness, energy, and loudness.\n",
    "# Finally, the third cluster (Cluster 2) encompasses music genres exhibiting an intermediate tempo level but notable danceability."
   ]
  },
  {
   "cell_type": "code",
   "execution_count": null,
   "id": "737afede",
   "metadata": {
    "id": "737afede",
    "outputId": "1aeeee36-9aea-4ec9-c80e-9ef00d6b541d"
   },
   "outputs": [],
   "source": [
    "plt.figure(figsize = (14, 10))\n",
    "fontdict = {'fontsize': 18, 'fontweight': 'bold'}\n",
    "plt.title('All genres in the dataset', fontdict = fontdict)\n",
    "sns.countplot(data = df, x = category[0])\n",
    "plt.xlabel('Values', fontsize = 14)\n",
    "plt.ylabel('Counts')\n",
    "plt.show()"
   ]
  },
  {
   "cell_type": "code",
   "execution_count": null,
   "id": "58db22ba",
   "metadata": {
    "id": "58db22ba",
    "outputId": "25ac5efe-f655-4069-dac0-96bd9d28156a"
   },
   "outputs": [],
   "source": [
    "df['Clusters'].value_counts()"
   ]
  },
  {
   "cell_type": "markdown",
   "id": "71c6a643",
   "metadata": {
    "id": "71c6a643"
   },
   "source": [
    "### Univariate Analysis of numerical attributes"
   ]
  },
  {
   "cell_type": "code",
   "execution_count": null,
   "id": "de23ee39",
   "metadata": {
    "id": "de23ee39",
    "outputId": "6aeebe7e-30f9-4a30-a552-96f385d97d92"
   },
   "outputs": [],
   "source": [
    "fig, axes = plt.subplots(1, 3, figsize=(15, 5))\n",
    "fontdict = {'fontsize': 12, 'fontweight': 'bold'}\n",
    "\n",
    "for i, feat in enumerate(countable):\n",
    "    sns.countplot(x = feat, data = df, ax = axes[i])\n",
    "    axes[i].set_title(f'The Distribution of {feat}', fontdict = fontdict)\n",
    "    axes[i].set_xlabel('Values', fontsize = 14)\n",
    "    axes[i].set_ylabel('Frequency', fontsize = 14)\n",
    "\n",
    "plt.tight_layout(w_pad= 0.5)\n",
    "plt.show()\n",
    "\n",
    "#Not so many artists use the key 3, the distribution of mode leans towards 1 and most of songs have 4 beats per bar"
   ]
  },
  {
   "cell_type": "code",
   "execution_count": null,
   "id": "d3239405",
   "metadata": {
    "id": "d3239405",
    "outputId": "62f7a7ae-8267-4aad-ffbe-0d641c3318fe"
   },
   "outputs": [],
   "source": [
    "fig, axes = plt.subplots(1, 2, figsize=(15, 5))\n",
    "fontdict = {'fontsize': 12, 'fontweight': 'bold'}\n",
    "\n",
    "for i, feat in enumerate(uncountable):\n",
    "    sns.kdeplot(x = feat, data = df, ax = axes[i])\n",
    "    axes[i].set_title(f'The Distribution of {feat}', fontdict = fontdict)\n",
    "    axes[i].set_xlabel('Values', fontsize = 14)\n",
    "    axes[i].set_ylabel('Frequency', fontsize = 14)\n",
    "\n",
    "plt.tight_layout(w_pad= 0.5)\n",
    "plt.show()"
   ]
  },
  {
   "cell_type": "code",
   "execution_count": null,
   "id": "1d1ec989",
   "metadata": {
    "id": "1d1ec989",
    "outputId": "c8a2b9b6-7593-4abc-b629-b115da040128"
   },
   "outputs": [],
   "source": [
    "fig, axes = plt.subplots(3, 3, figsize=(15, 10))\n",
    "fontdict = {'fontsize': 12, 'fontweight': 'bold'}\n",
    "\n",
    "for i, feat in enumerate(continous[:min(len(continous), 9)]):  # Ensuring hist has at least 9 items or less\n",
    "    ax = axes[i // 3, i % 3]  # Properly accessing the subplots\n",
    "    sns.kdeplot(x=feat, data=df, ax=ax)\n",
    "    ax.set_title(f'The Distribution of {feat}', fontdict=fontdict)\n",
    "    ax.set_xlabel('Values', fontsize=14)\n",
    "    ax.set_ylabel('Frequency', fontsize=14)\n",
    "\n",
    "plt.tight_layout(w_pad=0.5)\n",
    "plt.show()"
   ]
  },
  {
   "cell_type": "markdown",
   "id": "491bd833",
   "metadata": {
    "id": "491bd833"
   },
   "source": [
    "## Hypothesis Testing"
   ]
  },
  {
   "cell_type": "markdown",
   "id": "c182d6eb",
   "metadata": {
    "id": "c182d6eb"
   },
   "source": [
    "### What will be the formula to create a hit song?"
   ]
  },
  {
   "cell_type": "code",
   "execution_count": null,
   "id": "7bc7c6f9",
   "metadata": {
    "id": "7bc7c6f9"
   },
   "outputs": [],
   "source": [
    "# We will first filter out all the songs with high popularity score\n",
    "df_pop = df[(df['popularity'] > 80)]"
   ]
  },
  {
   "cell_type": "code",
   "execution_count": null,
   "id": "bc57b5db",
   "metadata": {
    "id": "bc57b5db",
    "outputId": "71b7c4e2-c7ef-41e9-8985-8c0d70c09850"
   },
   "outputs": [],
   "source": [
    "#Check to see what type of cluster has the most popular songs\n",
    "df_pop['Clusters'].value_counts()"
   ]
  },
  {
   "cell_type": "code",
   "execution_count": null,
   "id": "7a9f8950",
   "metadata": {
    "id": "7a9f8950",
    "outputId": "0f7f3071-0fec-40c9-95c6-ae5467b93fe9"
   },
   "outputs": [],
   "source": [
    "#Check to see what genre has the most popular songs\n",
    "df_pop['track_genre'].value_counts()"
   ]
  },
  {
   "cell_type": "code",
   "execution_count": null,
   "id": "ed391348",
   "metadata": {
    "id": "ed391348",
    "outputId": "fedbfc1b-616b-44a5-ab9d-676a450b50b7"
   },
   "outputs": [],
   "source": [
    "# Examine the distribution of feature values for each song within the 'popular' song dataset:\n",
    "fig, axes = plt.subplots(3, 3, figsize=(15, 10))\n",
    "fontdict = {'fontsize': 12, 'fontweight': 'bold'}\n",
    "\n",
    "for i, feat in enumerate(continous[:min(len(continous), 9)]):  # Ensuring hist has at least 9 items or less\n",
    "    ax = axes[i // 3, i % 3]  # Properly accessing the subplots\n",
    "    sns.kdeplot(x=feat, data=df_pop, ax=ax)\n",
    "    ax.set_title(f'The Distribution of {feat}', fontdict=fontdict)\n",
    "    ax.set_xlabel('Values', fontsize=14)\n",
    "    ax.set_ylabel('Frequency', fontsize=14)\n",
    "\n",
    "plt.tight_layout(w_pad=0.5)\n",
    "plt.show()"
   ]
  },
  {
   "cell_type": "markdown",
   "id": "9db3ac55",
   "metadata": {
    "id": "9db3ac55"
   },
   "source": [
    "#### To understand the above graph, we first need to examine the meanings of these features:\n",
    "Instrumentalness: This value represents the amount of vocals in the song. The closer it is to 1.0, the more instrumental the song is.\n",
    "\n",
    "Acousticness: This value describes how acoustic a song is. A score of 1.0 means the song is most likely to be an acoustic one.\n",
    "\n",
    "Liveness: This value describes the probability that the song was recorded with a live audience. According to the official documentation “a value above 0.8 provides strong likelihood that the track is live”.\n",
    "\n",
    "Speechiness: “Speechiness detects the presence of spoken words in a track”. If the speechiness of a song is above 0.66, it is probably made of spoken words, a score between 0.33 and 0.66 is a song that may contain both music and words, and a score below 0.33 means the song does not have any speech.\n",
    "\n",
    "Energy: “(energy) represents a perceptual measure of intensity and activity. Typically, energetic tracks feel fast, loud, and noisy”.\n",
    "\n",
    "Danceability: “Danceability describes how suitable a track is for dancing based on a combination of musical elements including tempo, rhythm stability, beat strength, and overall regularity. A value of 0.0 is least danceable and 1.0 is most danceable”.\n",
    "\n",
    "Valence: “A measure from 0.0 to 1.0 describing the musical positiveness conveyed by a track. Tracks with high valence sound more positive (e.g. happy, cheerful, euphoric), while tracks with low valence sound more negative (e.g. sad, depressed, angry)”.\n",
    "\n",
    "Loudness: pretty self-explanatory.\n",
    "\n",
    "Energy: Represents a perceptual measure of intensity and activity. Typically, energetic tracks feel fast, loud, and noisy.\n",
    "\n",
    "Tempo: The pulse (BPM) of a song.\n",
    "\n",
    "\n",
    "\n",
    "\n",
    "#### We can see the pattern between hit songs and all songs by comparing between two above distributions: Hit songs' distribution of danceability, loudness and energy are skewed right while its distributions of speechiness, acousticness, instrumentalness, liveness is not diverse and skewed left."
   ]
  },
  {
   "cell_type": "code",
   "execution_count": null,
   "id": "ba1426d8",
   "metadata": {
    "id": "ba1426d8",
    "outputId": "7e532974-6daa-41c2-f52a-02bb7132df79"
   },
   "outputs": [],
   "source": [
    "# Compute the correlation matrix\n",
    "corr = df[(df['popularity'] > 80)].corr()\n",
    "\n",
    "# Set up the matplotlib figure\n",
    "f, ax = plt.subplots(figsize=(12, 6))\n",
    "\n",
    "# Generate a custom diverging colormap\n",
    "cmap = sns.diverging_palette(220, 10, as_cmap=True)\n",
    "\n",
    "# Draw the heatmap with the mask and correct aspect ratio\n",
    "sns.heatmap(corr, cmap=cmap, vmax=1, center=0,\n",
    "            square=True, linewidths=.5, cbar_kws={\"shrink\": .5})\n",
    "\n",
    "plt.show()"
   ]
  },
  {
   "cell_type": "markdown",
   "id": "ea349e2e",
   "metadata": {
    "id": "ea349e2e"
   },
   "source": [
    "### Music listening behaviors pre-COVID vs after-COVID"
   ]
  },
  {
   "cell_type": "markdown",
   "id": "3c028304",
   "metadata": {
    "id": "3c028304"
   },
   "source": [
    "pre_2020 = []\n",
    "\n",
    "#Initialize pagination variables\n",
    "offset = 0\n",
    "limit = 50\n",
    "\n",
    "\"\"\"while True:\n",
    "    try:\n",
    "        results = sp.playlist_tracks(pre_2020_music_url, offset=offset, limit=limit)\n",
    "        tracks = results['items']\n",
    "        if len(tracks) == 0:\n",
    "            break\n",
    "        for track in tracks:\n",
    "            # URI\n",
    "            track_uri = track[\"track\"][\"uri\"]\n",
    "            audio_feats = sp.audio_features(track_uri)[0]\n",
    "            time.sleep(0.5)  # Increased delay to reduce API requests\n",
    "            track_info = sp.track(track_uri)\n",
    "            audio_feats['popularity'] = track_info['popularity']\n",
    "            pre_2020.append(audio_feats)\n",
    "        offset += limit\n",
    "    except Exception as e:\n",
    "        print(f\"Error occurred: {e}\")\n",
    "        time.sleep(5)  # Implementing a delay to handle API rate limits\n",
    "\n",
    "pre_2020_df = pd.DataFrame(pre_2020)\"\"\""
   ]
  },
  {
   "cell_type": "markdown",
   "id": "1971449f",
   "metadata": {
    "id": "1971449f"
   },
   "source": [
    "##### The dataset contains 295 hit songs with the time_range of 3 (2017, 2018, 2019, 2020 also), shows the attributes of hit songs pre-COVID"
   ]
  },
  {
   "cell_type": "code",
   "execution_count": null,
   "id": "b922cc57",
   "metadata": {
    "id": "b922cc57",
    "outputId": "d715fb9d-88f8-458d-9d66-a8e06c2f4cba"
   },
   "outputs": [],
   "source": [
    "pre_2020_df"
   ]
  },
  {
   "cell_type": "markdown",
   "id": "3b603237",
   "metadata": {
    "id": "3b603237"
   },
   "source": [
    "##### The dataset contains 284 hit songs with the time_range of 3 (2020, 2021, 2022, 2023), shows the attributes of hit songs pre-COVID"
   ]
  },
  {
   "cell_type": "code",
   "execution_count": null,
   "id": "2a340c49",
   "metadata": {
    "id": "2a340c49",
    "outputId": "879a5d5e-469d-4835-95bb-6ee804ae94a7"
   },
   "outputs": [],
   "source": [
    "after_2020 = []\n",
    "\n",
    "# Initialize pagination variables\n",
    "offset = 0\n",
    "limit = 50\n",
    "\n",
    "session = requests.Session()\n",
    "retries = Retry(total=5, backoff_factor=1, status_forcelist=[429, 500, 502, 503, 504])\n",
    "session.mount('https://', HTTPAdapter(max_retries=retries))\n",
    "\n",
    "while True:\n",
    "    try:\n",
    "        results = sp.playlist_tracks(after_2020_music_url, offset=offset, limit=limit)\n",
    "        tracks = results['items']\n",
    "        if len(tracks) == 0:\n",
    "            break\n",
    "        for track in tracks:\n",
    "            # URI\n",
    "            track_uri = track[\"track\"][\"uri\"]\n",
    "            audio_feats = sp.audio_features(track_uri)[0]\n",
    "            after_2020.append(audio_feats)\n",
    "        offset += limit\n",
    "        time.sleep(0.1)  # Adding a small delay to avoid overwhelming the API\n",
    "    except Exception as e:\n",
    "        print(f\"Error occurred: {e}\")\n",
    "        time.sleep(5)  # Wait for a while before retrying"
   ]
  },
  {
   "cell_type": "code",
   "execution_count": null,
   "id": "a26579ed",
   "metadata": {
    "id": "a26579ed"
   },
   "outputs": [],
   "source": [
    "after_2020_df = pd.DataFrame(after_2020)\n",
    "\n",
    "after_2020_df"
   ]
  },
  {
   "cell_type": "code",
   "execution_count": null,
   "id": "bdbeeec1",
   "metadata": {
    "id": "bdbeeec1"
   },
   "outputs": [],
   "source": [
    "fig, axes = plt.subplots(3, 3, figsize=(15, 10))\n",
    "fontdict = {'fontsize': 12, 'fontweight': 'bold'}\n",
    "\n",
    "for i, feat in enumerate(continous[:min(len(continous), 9)]):  # Ensuring hist has at least 9 items or less\n",
    "    ax = axes[i // 3, i % 3]  # Properly accessing the subplots\n",
    "    sns.kdeplot(x=feat, data=after_2020_df, ax=ax)\n",
    "    ax.set_title(f'The Distribution of {feat}', fontdict=fontdict)\n",
    "    ax.set_xlabel('Values', fontsize=14)\n",
    "    ax.set_ylabel('Frequency', fontsize=14)\n",
    "\n",
    "plt.tight_layout(w_pad=0.5)\n",
    "plt.show()"
   ]
  },
  {
   "cell_type": "code",
   "execution_count": null,
   "id": "66127aa1",
   "metadata": {
    "id": "66127aa1"
   },
   "outputs": [],
   "source": [
    "fig, axes = plt.subplots(3, 3, figsize=(15, 10))\n",
    "fontdict = {'fontsize': 12, 'fontweight': 'bold'}\n",
    "\n",
    "for i, feat in enumerate(continous[:min(len(continous), 9)]):  # Ensuring hist has at least 9 items or less\n",
    "    ax = axes[i // 3, i % 3]  # Properly accessing the subplots\n",
    "    sns.kdeplot(x=feat, data=pre_2020_df, ax=ax)\n",
    "    ax.set_title(f'The Distribution of {feat}', fontdict=fontdict)\n",
    "    ax.set_xlabel('Values', fontsize=14)\n",
    "    ax.set_ylabel('Frequency', fontsize=14)\n",
    "\n",
    "plt.tight_layout(w_pad=0.5)\n",
    "plt.show()"
   ]
  },
  {
   "cell_type": "code",
   "execution_count": null,
   "id": "3c0cb289",
   "metadata": {
    "id": "3c0cb289"
   },
   "outputs": [],
   "source": [
    "# Compute the correlation matrix\n",
    "corr = pre_2020_df.corr()\n",
    "\n",
    "# Set up the matplotlib figure\n",
    "f, ax = plt.subplots(figsize=(9, 6))\n",
    "\n",
    "# Generate a custom diverging colormap\n",
    "cmap = sns.diverging_palette(220, 10, as_cmap=True)\n",
    "\n",
    "# Draw the heatmap with the mask and correct aspect ratio\n",
    "sns.heatmap(corr, cmap=cmap, vmax=1, center=0, annot=True,\n",
    "            square=True, linewidths=.5, cbar_kws={\"shrink\": .5})\n",
    "\n",
    "plt.show()"
   ]
  },
  {
   "cell_type": "markdown",
   "id": "4c839240",
   "metadata": {
    "id": "4c839240"
   },
   "source": [
    "### How long should an average track last according to today's standards?"
   ]
  },
  {
   "cell_type": "code",
   "execution_count": null,
   "id": "39befd20",
   "metadata": {
    "id": "39befd20"
   },
   "outputs": [],
   "source": [
    "after_2020_ms = round(after_2020_df['duration_ms'].mean(), 2)\n",
    "pre_2020_ms = round(pre_2020_df['duration_ms'].mean(), 2)\n",
    "\n",
    "print(f'The duration of average track pre-COVID: {after_2020_ms} The duration of average track during and after COVID {pre_2020_ms}')"
   ]
  },
  {
   "cell_type": "markdown",
   "id": "1d65febc",
   "metadata": {
    "id": "1d65febc"
   },
   "source": [
    "#### This insight indicates an increase in term of duration"
   ]
  }
 ],
 "metadata": {
  "colab": {
   "provenance": []
  },
  "kernelspec": {
   "display_name": "Python 3 (ipykernel)",
   "language": "python",
   "name": "python3"
  },
  "language_info": {
   "codemirror_mode": {
    "name": "ipython",
    "version": 3
   },
   "file_extension": ".py",
   "mimetype": "text/x-python",
   "name": "python",
   "nbconvert_exporter": "python",
   "pygments_lexer": "ipython3",
   "version": "3.11.6"
  }
 },
 "nbformat": 4,
 "nbformat_minor": 5
}
